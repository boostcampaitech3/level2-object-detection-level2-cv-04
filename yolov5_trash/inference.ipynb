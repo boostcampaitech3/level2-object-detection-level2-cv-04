{
 "cells": [
  {
   "cell_type": "code",
   "execution_count": 1,
   "metadata": {},
   "outputs": [],
   "source": [
    "import cv2\n",
    "import torch\n",
    "import json\n",
    "import pandas as pd\n",
    "from PIL import Image\n",
    "from tqdm import tqdm"
   ]
  },
  {
   "cell_type": "code",
   "execution_count": 2,
   "metadata": {},
   "outputs": [
    {
     "name": "stderr",
     "output_type": "stream",
     "text": [
      "YOLOv5 🚀 b7f9639 torch 1.7.1 CUDA:0 (Tesla V100-PCIE-32GB, 32510.5MB)\n",
      "\n",
      "Fusing layers... \n",
      "Model Summary: 574 layers, 140057380 parameters, 0 gradients, 208.3 GFLOPs\n",
      "Adding AutoShape... \n",
      "100%|██████████| 4871/4871 [12:13<00:00,  6.65it/s]\n"
     ]
    }
   ],
   "source": [
    "import torch\n",
    "# exp_name 변경해서 돌리면 됩니다\n",
    "exp_name = 'exp'\n",
    "model = torch.hub.load('./utils', 'custom', path= f'../output/yolov5/{exp_name}/weights/best.pt', source='local') \n",
    "model.conf = 0.001  # confidence threshold (0-1)\n",
    "model.iou = 0.6  # NMS IoU threshold (0-1)\n",
    "\n",
    "prediction_string = ['']  * 4871 \n",
    "image_id = [f'test/{i:04}.jpg' for i in range(4871)]\n",
    "for i in tqdm(range(4871)):\n",
    "    img = Image.open(f'../dataset/test/{i:04}.jpg')\n",
    "\n",
    "    results = model(img, size=1024, augment=True) # augment로 TTA on/off 가능합니다. \n",
    "    for bbox in results.pandas().xyxy[0].values:\n",
    "        xmin, ymin, xmax, ymax, confidence, clss, name = bbox\n",
    "        prediction_string[i] += f'{clss} {confidence} {xmin} {ymin} {xmax} {ymax} '\n"
   ]
  },
  {
   "cell_type": "code",
   "execution_count": 3,
   "metadata": {},
   "outputs": [],
   "source": [
    "raw_data ={\n",
    "    'PredictionString' : prediction_string,\n",
    "    'image_id' : image_id\n",
    "}\n",
    "dataframe = pd.DataFrame(raw_data)\n",
    "\n",
    "# output/yolov5/exp_name에 저장됩니다.\n",
    "dataframe.to_csv(f'../output/yolov5/{exp_name}/submission_{exp_name}.csv', sep=',', na_rep='NaN', index=None)"
   ]
  }
 ],
 "metadata": {
  "interpreter": {
   "hash": "b94c6de4bce9a87a354a5fa9998691adc0532adddb9d4140f5ba941d00b01fae"
  },
  "kernelspec": {
   "display_name": "detection",
   "language": "python",
   "name": "detection"
  },
  "language_info": {
   "codemirror_mode": {
    "name": "ipython",
    "version": 3
   },
   "file_extension": ".py",
   "mimetype": "text/x-python",
   "name": "python",
   "nbconvert_exporter": "python",
   "pygments_lexer": "ipython3",
   "version": "3.7.11"
  },
  "orig_nbformat": 4
 },
 "nbformat": 4,
 "nbformat_minor": 2
}
